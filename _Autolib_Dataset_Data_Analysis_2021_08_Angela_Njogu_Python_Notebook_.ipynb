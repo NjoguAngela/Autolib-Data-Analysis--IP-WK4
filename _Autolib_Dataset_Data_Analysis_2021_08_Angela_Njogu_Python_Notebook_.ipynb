{
  "nbformat": 4,
  "nbformat_minor": 0,
  "metadata": {
    "colab": {
      "name": "\"Autolib_Dataset_Data_Analysis_2021_08_Angela_Njogu_Python_Notebook\".ipynb",
      "provenance": [],
      "collapsed_sections": []
    },
    "kernelspec": {
      "name": "python3",
      "display_name": "Python 3"
    },
    "language_info": {
      "name": "python"
    }
  },
  "cells": [
    {
      "cell_type": "code",
      "metadata": {
        "colab": {
          "base_uri": "https://localhost:8080/",
          "height": 445
        },
        "id": "W4k3qLQvODTS",
        "outputId": "63948b75-557f-467c-a066-88ee32af594d"
      },
      "source": [
        "#importing pandas and numpy libraries\n",
        "import pandas as pd\n",
        "import numpy as np\n",
        "#Reading the dataset and previewing the first ten rows\n",
        "Autolib_dataset = pd.read_csv('/content/Autolib_dataset (2).csv')\n",
        "Autolib_dataset.head()"
      ],
      "execution_count": 3,
      "outputs": [
        {
          "output_type": "execute_result",
          "data": {
            "text/html": [
              "<div>\n",
              "<style scoped>\n",
              "    .dataframe tbody tr th:only-of-type {\n",
              "        vertical-align: middle;\n",
              "    }\n",
              "\n",
              "    .dataframe tbody tr th {\n",
              "        vertical-align: top;\n",
              "    }\n",
              "\n",
              "    .dataframe thead th {\n",
              "        text-align: right;\n",
              "    }\n",
              "</style>\n",
              "<table border=\"1\" class=\"dataframe\">\n",
              "  <thead>\n",
              "    <tr style=\"text-align: right;\">\n",
              "      <th></th>\n",
              "      <th>Address</th>\n",
              "      <th>Cars</th>\n",
              "      <th>Bluecar counter</th>\n",
              "      <th>Utilib counter</th>\n",
              "      <th>Utilib 1.4 counter</th>\n",
              "      <th>Charge Slots</th>\n",
              "      <th>Charging Status</th>\n",
              "      <th>City</th>\n",
              "      <th>Displayed comment</th>\n",
              "      <th>ID</th>\n",
              "      <th>Kind</th>\n",
              "      <th>Geo point</th>\n",
              "      <th>Postal code</th>\n",
              "      <th>Public name</th>\n",
              "      <th>Rental status</th>\n",
              "      <th>Scheduled at</th>\n",
              "      <th>Slots</th>\n",
              "      <th>Station type</th>\n",
              "      <th>Status</th>\n",
              "      <th>Subscription status</th>\n",
              "      <th>year</th>\n",
              "      <th>month</th>\n",
              "      <th>day</th>\n",
              "      <th>hour</th>\n",
              "      <th>minute</th>\n",
              "    </tr>\n",
              "  </thead>\n",
              "  <tbody>\n",
              "    <tr>\n",
              "      <th>0</th>\n",
              "      <td>2 Avenue de Suffren</td>\n",
              "      <td>0</td>\n",
              "      <td>0</td>\n",
              "      <td>0</td>\n",
              "      <td>0</td>\n",
              "      <td>0</td>\n",
              "      <td>nonexistent</td>\n",
              "      <td>Paris</td>\n",
              "      <td>NaN</td>\n",
              "      <td>paris-suffren-2</td>\n",
              "      <td>STATION</td>\n",
              "      <td>48.857, 2.2917</td>\n",
              "      <td>75015</td>\n",
              "      <td>Paris/Suffren/2</td>\n",
              "      <td>operational</td>\n",
              "      <td>NaN</td>\n",
              "      <td>2</td>\n",
              "      <td>station</td>\n",
              "      <td>ok</td>\n",
              "      <td>nonexistent</td>\n",
              "      <td>2018</td>\n",
              "      <td>4</td>\n",
              "      <td>8</td>\n",
              "      <td>11</td>\n",
              "      <td>43</td>\n",
              "    </tr>\n",
              "    <tr>\n",
              "      <th>1</th>\n",
              "      <td>145 Rue Raymond Losserand</td>\n",
              "      <td>6</td>\n",
              "      <td>6</td>\n",
              "      <td>0</td>\n",
              "      <td>0</td>\n",
              "      <td>0</td>\n",
              "      <td>operational</td>\n",
              "      <td>Paris</td>\n",
              "      <td>NaN</td>\n",
              "      <td>paris-raymondlosserand-145</td>\n",
              "      <td>STATION</td>\n",
              "      <td>48.83126, 2.313088</td>\n",
              "      <td>75014</td>\n",
              "      <td>Paris/Raymond Losserand/145</td>\n",
              "      <td>operational</td>\n",
              "      <td>NaN</td>\n",
              "      <td>0</td>\n",
              "      <td>station</td>\n",
              "      <td>ok</td>\n",
              "      <td>nonexistent</td>\n",
              "      <td>2018</td>\n",
              "      <td>4</td>\n",
              "      <td>6</td>\n",
              "      <td>7</td>\n",
              "      <td>24</td>\n",
              "    </tr>\n",
              "    <tr>\n",
              "      <th>2</th>\n",
              "      <td>2 Avenue John Fitzgerald Kennedy</td>\n",
              "      <td>3</td>\n",
              "      <td>3</td>\n",
              "      <td>0</td>\n",
              "      <td>2</td>\n",
              "      <td>0</td>\n",
              "      <td>operational</td>\n",
              "      <td>Le Bourget</td>\n",
              "      <td>NaN</td>\n",
              "      <td>lebourget-johnfitzgeraldkennedy-2</td>\n",
              "      <td>STATION</td>\n",
              "      <td>48.938103, 2.4286035</td>\n",
              "      <td>93350</td>\n",
              "      <td>Le Bourget/John Fitzgerald Kennedy/2</td>\n",
              "      <td>operational</td>\n",
              "      <td>NaN</td>\n",
              "      <td>1</td>\n",
              "      <td>station</td>\n",
              "      <td>ok</td>\n",
              "      <td>nonexistent</td>\n",
              "      <td>2018</td>\n",
              "      <td>4</td>\n",
              "      <td>3</td>\n",
              "      <td>20</td>\n",
              "      <td>14</td>\n",
              "    </tr>\n",
              "    <tr>\n",
              "      <th>3</th>\n",
              "      <td>51 Rue EugÃ¨ne OudinÃ©</td>\n",
              "      <td>3</td>\n",
              "      <td>3</td>\n",
              "      <td>1</td>\n",
              "      <td>0</td>\n",
              "      <td>1</td>\n",
              "      <td>operational</td>\n",
              "      <td>Paris</td>\n",
              "      <td>NaN</td>\n",
              "      <td>paris-eugeneoudine-51</td>\n",
              "      <td>STATION</td>\n",
              "      <td>48.8250327, 2.3725162</td>\n",
              "      <td>75013</td>\n",
              "      <td>Paris/EugÃ¨ne OudinÃ©/51</td>\n",
              "      <td>operational</td>\n",
              "      <td>NaN</td>\n",
              "      <td>2</td>\n",
              "      <td>station</td>\n",
              "      <td>ok</td>\n",
              "      <td>nonexistent</td>\n",
              "      <td>2018</td>\n",
              "      <td>4</td>\n",
              "      <td>4</td>\n",
              "      <td>4</td>\n",
              "      <td>37</td>\n",
              "    </tr>\n",
              "    <tr>\n",
              "      <th>4</th>\n",
              "      <td>6 avenue de la Porte de Champerret</td>\n",
              "      <td>3</td>\n",
              "      <td>3</td>\n",
              "      <td>0</td>\n",
              "      <td>0</td>\n",
              "      <td>0</td>\n",
              "      <td>nonexistent</td>\n",
              "      <td>Paris</td>\n",
              "      <td>NaN</td>\n",
              "      <td>paris-portedechamperret-6</td>\n",
              "      <td>PARKING</td>\n",
              "      <td>48.8862632, 2.2874511</td>\n",
              "      <td>75017</td>\n",
              "      <td>Paris/Porte de Champerret/6</td>\n",
              "      <td>operational</td>\n",
              "      <td>NaN</td>\n",
              "      <td>3</td>\n",
              "      <td>station</td>\n",
              "      <td>ok</td>\n",
              "      <td>nonexistent</td>\n",
              "      <td>2018</td>\n",
              "      <td>4</td>\n",
              "      <td>8</td>\n",
              "      <td>17</td>\n",
              "      <td>23</td>\n",
              "    </tr>\n",
              "  </tbody>\n",
              "</table>\n",
              "</div>"
            ],
            "text/plain": [
              "                              Address  Cars  Bluecar counter  ...  day  hour  minute\n",
              "0                 2 Avenue de Suffren     0                0  ...    8    11      43\n",
              "1           145 Rue Raymond Losserand     6                6  ...    6     7      24\n",
              "2    2 Avenue John Fitzgerald Kennedy     3                3  ...    3    20      14\n",
              "3              51 Rue EugÃ¨ne OudinÃ©     3                3  ...    4     4      37\n",
              "4  6 avenue de la Porte de Champerret     3                3  ...    8    17      23\n",
              "\n",
              "[5 rows x 25 columns]"
            ]
          },
          "metadata": {
            "tags": []
          },
          "execution_count": 3
        }
      ]
    },
    {
      "cell_type": "markdown",
      "metadata": {
        "id": "ZOolrtbNoRzr"
      },
      "source": [
        "### Data Cleaning"
      ]
    },
    {
      "cell_type": "code",
      "metadata": {
        "id": "BVQ-30iDf5zq"
      },
      "source": [
        "# Data cleaning action : Dropping Columns\n",
        "# As we are only interested in the times of car rentals and their returning time, there are a number of columns that will not be put into use\n",
        "# I decided to drop the column geopoint and scehduled.\n",
        "# Geopoint is to be dropped as the station name, address and city columns provide us with enough information pertaining location.\n",
        "# The schedule column details the dates that stations that have yet to be opened are to be opened. This column will therefore not be useful to us.\n",
        "Autolib_dataset =Autolib_dataset.drop('Scheduled at', axis=1)\n",
        "Autolib_dataset =Autolib_dataset.drop('Geo point', axis=1)\n"
      ],
      "execution_count": 4,
      "outputs": []
    },
    {
      "cell_type": "code",
      "metadata": {
        "colab": {
          "base_uri": "https://localhost:8080/"
        },
        "id": "BTh8AiNttCnU",
        "outputId": "1c217599-208b-49ef-c3d8-80d9fe7389e3"
      },
      "source": [
        "Autolib_dataset['Kind'].values"
      ],
      "execution_count": 5,
      "outputs": [
        {
          "output_type": "execute_result",
          "data": {
            "text/plain": [
              "array(['STATION', 'STATION', 'STATION', ..., 'STATION', 'STATION',\n",
              "       'STATION'], dtype=object)"
            ]
          },
          "metadata": {
            "tags": []
          },
          "execution_count": 5
        }
      ]
    },
    {
      "cell_type": "code",
      "metadata": {
        "colab": {
          "base_uri": "https://localhost:8080/"
        },
        "id": "xQjqjbi5rRrc",
        "outputId": "81533935-32e1-4a4e-c9d5-97e028e14856"
      },
      "source": [
        "# Data cleaning action: Checking for typos\n",
        "# Upon data collection, a warning was given that there might be typos in the column charging status. As the has only a few possible values it is easy to check for this.\n",
        "typos=[]\n",
        "def typo_finder(x):\n",
        "  for i in x.values:\n",
        "    if i == 'nonexistent' or i == 'broken' or i == 'operational':\n",
        "      pass\n",
        "    else:\n",
        "      typos.append(i)\n",
        "      \n",
        "\n",
        "typo_finder(Autolib_dataset['charging_status'])\n",
        "print(typos)"
      ],
      "execution_count": 21,
      "outputs": [
        {
          "output_type": "stream",
          "text": [
            "[]\n"
          ],
          "name": "stdout"
        }
      ]
    },
    {
      "cell_type": "code",
      "metadata": {
        "colab": {
          "base_uri": "https://localhost:8080/"
        },
        "id": "07zYPyRxoJ5b",
        "outputId": "47b62e4c-c86d-4ac4-8fd4-b5543e327baa"
      },
      "source": [
        "Autolib_dataset.info()"
      ],
      "execution_count": null,
      "outputs": [
        {
          "output_type": "stream",
          "text": [
            "<class 'pandas.core.frame.DataFrame'>\n",
            "RangeIndex: 5000 entries, 0 to 4999\n",
            "Data columns (total 23 columns):\n",
            " #   Column               Non-Null Count  Dtype \n",
            "---  ------               --------------  ----- \n",
            " 0   Address              5000 non-null   object\n",
            " 1   Cars                 5000 non-null   int64 \n",
            " 2   Bluecar counter      5000 non-null   int64 \n",
            " 3   Utilib counter       5000 non-null   int64 \n",
            " 4   Utilib 1.4 counter   5000 non-null   int64 \n",
            " 5   Charge Slots         5000 non-null   int64 \n",
            " 6   Charging Status      5000 non-null   object\n",
            " 7   City                 5000 non-null   object\n",
            " 8   Displayed comment    111 non-null    object\n",
            " 9   ID                   5000 non-null   object\n",
            " 10  Kind                 5000 non-null   object\n",
            " 11  Postal code          5000 non-null   int64 \n",
            " 12  Public name          5000 non-null   object\n",
            " 13  Rental status        5000 non-null   object\n",
            " 14  Slots                5000 non-null   int64 \n",
            " 15  Station type         5000 non-null   object\n",
            " 16  Status               5000 non-null   object\n",
            " 17  Subscription status  5000 non-null   object\n",
            " 18  year                 5000 non-null   int64 \n",
            " 19  month                5000 non-null   int64 \n",
            " 20  day                  5000 non-null   int64 \n",
            " 21  hour                 5000 non-null   int64 \n",
            " 22  minute               5000 non-null   int64 \n",
            "dtypes: int64(12), object(11)\n",
            "memory usage: 898.6+ KB\n"
          ],
          "name": "stdout"
        }
      ]
    },
    {
      "cell_type": "code",
      "metadata": {
        "colab": {
          "base_uri": "https://localhost:8080/"
        },
        "id": "cGtbIcfwosWX",
        "outputId": "c8272927-126d-4687-ab5b-d1b73bfc96d6"
      },
      "source": [
        "# Data Cleaning Action: Dropping irrelevant rows.\n",
        "# Theere are a number of records in the dataset having their rental status as 'future' , their status as scheduled or their station type being sub-center.\n",
        "# The columns mentioned and having their values as stated respectively, represent records of stations that have no resources as per time of recording.\n",
        "# Meaning no cars could be rented from the station at the time and hence the records are not useful to us.\n",
        "\n",
        "Autolib_dataset =Autolib_dataset[~((Autolib_dataset['Rental status'] == 'future') | (Autolib_dataset['Station type']== 'subs_center') | (Autolib_dataset['Status']=='scheduled') | (Autolib_dataset['Kind']== 'CENTRE'))]\n",
        "Autolib_dataset.info()"
      ],
      "execution_count": 6,
      "outputs": [
        {
          "output_type": "stream",
          "text": [
            "<class 'pandas.core.frame.DataFrame'>\n",
            "Int64Index: 4950 entries, 0 to 4999\n",
            "Data columns (total 23 columns):\n",
            " #   Column               Non-Null Count  Dtype \n",
            "---  ------               --------------  ----- \n",
            " 0   Address              4950 non-null   object\n",
            " 1   Cars                 4950 non-null   int64 \n",
            " 2   Bluecar counter      4950 non-null   int64 \n",
            " 3   Utilib counter       4950 non-null   int64 \n",
            " 4   Utilib 1.4 counter   4950 non-null   int64 \n",
            " 5   Charge Slots         4950 non-null   int64 \n",
            " 6   Charging Status      4950 non-null   object\n",
            " 7   City                 4950 non-null   object\n",
            " 8   Displayed comment    111 non-null    object\n",
            " 9   ID                   4950 non-null   object\n",
            " 10  Kind                 4950 non-null   object\n",
            " 11  Postal code          4950 non-null   int64 \n",
            " 12  Public name          4950 non-null   object\n",
            " 13  Rental status        4950 non-null   object\n",
            " 14  Slots                4950 non-null   int64 \n",
            " 15  Station type         4950 non-null   object\n",
            " 16  Status               4950 non-null   object\n",
            " 17  Subscription status  4950 non-null   object\n",
            " 18  year                 4950 non-null   int64 \n",
            " 19  month                4950 non-null   int64 \n",
            " 20  day                  4950 non-null   int64 \n",
            " 21  hour                 4950 non-null   int64 \n",
            " 22  minute               4950 non-null   int64 \n",
            "dtypes: int64(12), object(11)\n",
            "memory usage: 928.1+ KB\n"
          ],
          "name": "stdout"
        }
      ]
    },
    {
      "cell_type": "code",
      "metadata": {
        "colab": {
          "base_uri": "https://localhost:8080/"
        },
        "id": "tjPbuSJU1dDR",
        "outputId": "bc235966-3074-4e5c-e5af-4eb87b2a5ec8"
      },
      "source": [
        "# Data cleaning action: Checking accuracy of counters\n",
        "# The car counter columns have a specified threshold and data exceeding these thresholds are inaccurate.\n",
        "not_in_range =[]\n",
        "def check(col):\n",
        "  for i in Autolib_dataset[col]:\n",
        "\n",
        "    if i > 7 :\n",
        "      not_in_range.append(i)\n",
        "    else:\n",
        "      pass\n",
        "    return not_in_range\n",
        "  \n",
        "check('bluecar_counter')"
      ],
      "execution_count": 11,
      "outputs": [
        {
          "output_type": "execute_result",
          "data": {
            "text/plain": [
              "[]"
            ]
          },
          "metadata": {
            "tags": []
          },
          "execution_count": 11
        }
      ]
    },
    {
      "cell_type": "code",
      "metadata": {
        "colab": {
          "base_uri": "https://localhost:8080/",
          "height": 69
        },
        "id": "YUTHllcZ2wTE",
        "outputId": "218f6717-a89d-47b2-cbf2-6ea441d6b7ac"
      },
      "source": [
        "Autolib_dataset[Autolib_dataset['utilib_counter'] > 4]"
      ],
      "execution_count": 12,
      "outputs": [
        {
          "output_type": "execute_result",
          "data": {
            "text/html": [
              "<div>\n",
              "<style scoped>\n",
              "    .dataframe tbody tr th:only-of-type {\n",
              "        vertical-align: middle;\n",
              "    }\n",
              "\n",
              "    .dataframe tbody tr th {\n",
              "        vertical-align: top;\n",
              "    }\n",
              "\n",
              "    .dataframe thead th {\n",
              "        text-align: right;\n",
              "    }\n",
              "</style>\n",
              "<table border=\"1\" class=\"dataframe\">\n",
              "  <thead>\n",
              "    <tr style=\"text-align: right;\">\n",
              "      <th></th>\n",
              "      <th>address</th>\n",
              "      <th>bluecar_counter</th>\n",
              "      <th>utilib_counter</th>\n",
              "      <th>utilib_1.4_counter</th>\n",
              "      <th>charge_slots</th>\n",
              "      <th>charging_status</th>\n",
              "      <th>city</th>\n",
              "      <th>id</th>\n",
              "      <th>kind</th>\n",
              "      <th>postal_code</th>\n",
              "      <th>public_name</th>\n",
              "      <th>rental_status</th>\n",
              "      <th>slots</th>\n",
              "      <th>station_type</th>\n",
              "      <th>status</th>\n",
              "      <th>subscription_status</th>\n",
              "      <th>year</th>\n",
              "      <th>month</th>\n",
              "      <th>day</th>\n",
              "      <th>hour</th>\n",
              "      <th>minute</th>\n",
              "    </tr>\n",
              "  </thead>\n",
              "  <tbody>\n",
              "  </tbody>\n",
              "</table>\n",
              "</div>"
            ],
            "text/plain": [
              "Empty DataFrame\n",
              "Columns: [address, bluecar_counter, utilib_counter, utilib_1.4_counter, charge_slots, charging_status, city, id, kind, postal_code, public_name, rental_status, slots, station_type, status, subscription_status, year, month, day, hour, minute]\n",
              "Index: []"
            ]
          },
          "metadata": {
            "tags": []
          },
          "execution_count": 12
        }
      ]
    },
    {
      "cell_type": "code",
      "metadata": {
        "colab": {
          "base_uri": "https://localhost:8080/",
          "height": 69
        },
        "id": "NqTJUSTV4A0p",
        "outputId": "e9383974-6a21-415f-adc6-56bbb4ebb87d"
      },
      "source": [
        "Autolib_dataset[Autolib_dataset['utilib_1.4_counter']> 5]"
      ],
      "execution_count": 13,
      "outputs": [
        {
          "output_type": "execute_result",
          "data": {
            "text/html": [
              "<div>\n",
              "<style scoped>\n",
              "    .dataframe tbody tr th:only-of-type {\n",
              "        vertical-align: middle;\n",
              "    }\n",
              "\n",
              "    .dataframe tbody tr th {\n",
              "        vertical-align: top;\n",
              "    }\n",
              "\n",
              "    .dataframe thead th {\n",
              "        text-align: right;\n",
              "    }\n",
              "</style>\n",
              "<table border=\"1\" class=\"dataframe\">\n",
              "  <thead>\n",
              "    <tr style=\"text-align: right;\">\n",
              "      <th></th>\n",
              "      <th>address</th>\n",
              "      <th>bluecar_counter</th>\n",
              "      <th>utilib_counter</th>\n",
              "      <th>utilib_1.4_counter</th>\n",
              "      <th>charge_slots</th>\n",
              "      <th>charging_status</th>\n",
              "      <th>city</th>\n",
              "      <th>id</th>\n",
              "      <th>kind</th>\n",
              "      <th>postal_code</th>\n",
              "      <th>public_name</th>\n",
              "      <th>rental_status</th>\n",
              "      <th>slots</th>\n",
              "      <th>station_type</th>\n",
              "      <th>status</th>\n",
              "      <th>subscription_status</th>\n",
              "      <th>year</th>\n",
              "      <th>month</th>\n",
              "      <th>day</th>\n",
              "      <th>hour</th>\n",
              "      <th>minute</th>\n",
              "    </tr>\n",
              "  </thead>\n",
              "  <tbody>\n",
              "  </tbody>\n",
              "</table>\n",
              "</div>"
            ],
            "text/plain": [
              "Empty DataFrame\n",
              "Columns: [address, bluecar_counter, utilib_counter, utilib_1.4_counter, charge_slots, charging_status, city, id, kind, postal_code, public_name, rental_status, slots, station_type, status, subscription_status, year, month, day, hour, minute]\n",
              "Index: []"
            ]
          },
          "metadata": {
            "tags": []
          },
          "execution_count": 13
        }
      ]
    },
    {
      "cell_type": "code",
      "metadata": {
        "colab": {
          "base_uri": "https://localhost:8080/",
          "height": 69
        },
        "id": "3nLL8I0p4LsE",
        "outputId": "c2dd1e74-efb4-4b08-d01a-bea5d5d74483"
      },
      "source": [
        "Autolib_dataset[Autolib_dataset['charge_slots'] > 3]"
      ],
      "execution_count": 14,
      "outputs": [
        {
          "output_type": "execute_result",
          "data": {
            "text/html": [
              "<div>\n",
              "<style scoped>\n",
              "    .dataframe tbody tr th:only-of-type {\n",
              "        vertical-align: middle;\n",
              "    }\n",
              "\n",
              "    .dataframe tbody tr th {\n",
              "        vertical-align: top;\n",
              "    }\n",
              "\n",
              "    .dataframe thead th {\n",
              "        text-align: right;\n",
              "    }\n",
              "</style>\n",
              "<table border=\"1\" class=\"dataframe\">\n",
              "  <thead>\n",
              "    <tr style=\"text-align: right;\">\n",
              "      <th></th>\n",
              "      <th>address</th>\n",
              "      <th>bluecar_counter</th>\n",
              "      <th>utilib_counter</th>\n",
              "      <th>utilib_1.4_counter</th>\n",
              "      <th>charge_slots</th>\n",
              "      <th>charging_status</th>\n",
              "      <th>city</th>\n",
              "      <th>id</th>\n",
              "      <th>kind</th>\n",
              "      <th>postal_code</th>\n",
              "      <th>public_name</th>\n",
              "      <th>rental_status</th>\n",
              "      <th>slots</th>\n",
              "      <th>station_type</th>\n",
              "      <th>status</th>\n",
              "      <th>subscription_status</th>\n",
              "      <th>year</th>\n",
              "      <th>month</th>\n",
              "      <th>day</th>\n",
              "      <th>hour</th>\n",
              "      <th>minute</th>\n",
              "    </tr>\n",
              "  </thead>\n",
              "  <tbody>\n",
              "  </tbody>\n",
              "</table>\n",
              "</div>"
            ],
            "text/plain": [
              "Empty DataFrame\n",
              "Columns: [address, bluecar_counter, utilib_counter, utilib_1.4_counter, charge_slots, charging_status, city, id, kind, postal_code, public_name, rental_status, slots, station_type, status, subscription_status, year, month, day, hour, minute]\n",
              "Index: []"
            ]
          },
          "metadata": {
            "tags": []
          },
          "execution_count": 14
        }
      ]
    },
    {
      "cell_type": "code",
      "metadata": {
        "colab": {
          "base_uri": "https://localhost:8080/"
        },
        "id": "OcwK2In9tGtY",
        "outputId": "4c929c82-414d-424d-a33e-388b01ff87bd"
      },
      "source": [
        "# Data Cleaning Action: Checking for missing values.\n",
        "# We first identify the number of missing values in each column.\n",
        "Autolib_dataset.isnull().any()\n",
        "#The displayed comment column is the only column with missing values. The column will not necessarily be useful in our analysis.\n",
        "# We can now drop the coulmn entirely.\n",
        "Autolib_dataset= Autolib_dataset.dropna(axis=1, how= 'any')\n",
        "Autolib_dataset.info()"
      ],
      "execution_count": 10,
      "outputs": [
        {
          "output_type": "stream",
          "text": [
            "<class 'pandas.core.frame.DataFrame'>\n",
            "Int64Index: 4950 entries, 0 to 4999\n",
            "Data columns (total 21 columns):\n",
            " #   Column               Non-Null Count  Dtype \n",
            "---  ------               --------------  ----- \n",
            " 0   address              4950 non-null   object\n",
            " 1   bluecar_counter      4950 non-null   int64 \n",
            " 2   utilib_counter       4950 non-null   int64 \n",
            " 3   utilib_1.4_counter   4950 non-null   int64 \n",
            " 4   charge_slots         4950 non-null   int64 \n",
            " 5   charging_status      4950 non-null   object\n",
            " 6   city                 4950 non-null   object\n",
            " 7   id                   4950 non-null   object\n",
            " 8   kind                 4950 non-null   object\n",
            " 9   postal_code          4950 non-null   int64 \n",
            " 10  public_name          4950 non-null   object\n",
            " 11  rental_status        4950 non-null   object\n",
            " 12  slots                4950 non-null   int64 \n",
            " 13  station_type         4950 non-null   object\n",
            " 14  status               4950 non-null   object\n",
            " 15  subscription_status  4950 non-null   object\n",
            " 16  year                 4950 non-null   int64 \n",
            " 17  month                4950 non-null   int64 \n",
            " 18  day                  4950 non-null   int64 \n",
            " 19  hour                 4950 non-null   int64 \n",
            " 20  minute               4950 non-null   int64 \n",
            "dtypes: int64(11), object(10)\n",
            "memory usage: 850.8+ KB\n"
          ],
          "name": "stdout"
        }
      ]
    },
    {
      "cell_type": "code",
      "metadata": {
        "id": "mCEBmMgpsV53"
      },
      "source": [
        "# Data Cleaning Action: Dropping dupilcate column cars\n",
        "# The column cars is identical to column blue car counter and hence can be dropped.\n",
        "\n",
        "Autolib_dataset =Autolib_dataset.drop('Cars', axis=1)\n"
      ],
      "execution_count": 7,
      "outputs": []
    },
    {
      "cell_type": "code",
      "metadata": {
        "colab": {
          "base_uri": "https://localhost:8080/"
        },
        "id": "Fl8SlSpF_tec",
        "outputId": "6f022491-5ab4-474a-ac13-ad90226419f5"
      },
      "source": [
        "# Data cleaning action: Checking for duplicates in the dataframe.\n",
        "\n",
        "np.count_nonzero(Autolib_dataset.duplicated())"
      ],
      "execution_count": 8,
      "outputs": [
        {
          "output_type": "execute_result",
          "data": {
            "text/plain": [
              "0"
            ]
          },
          "metadata": {
            "tags": []
          },
          "execution_count": 8
        }
      ]
    },
    {
      "cell_type": "code",
      "metadata": {
        "colab": {
          "base_uri": "https://localhost:8080/"
        },
        "id": "qNxegF-yvJha",
        "outputId": "60c04ed3-9e53-48e1-e7c3-13e13689f374"
      },
      "source": [
        "# Data Cleaning Action: Standardization\n",
        "# I prefer all my column labels to be in lower case as they are easier to call in that way.\n",
        "\n",
        "Autolib_dataset.columns =Autolib_dataset.columns.str.lower().str.replace(\" \",\"_\")\n",
        "Autolib_dataset.info()"
      ],
      "execution_count": 9,
      "outputs": [
        {
          "output_type": "stream",
          "text": [
            "<class 'pandas.core.frame.DataFrame'>\n",
            "Int64Index: 4950 entries, 0 to 4999\n",
            "Data columns (total 22 columns):\n",
            " #   Column               Non-Null Count  Dtype \n",
            "---  ------               --------------  ----- \n",
            " 0   address              4950 non-null   object\n",
            " 1   bluecar_counter      4950 non-null   int64 \n",
            " 2   utilib_counter       4950 non-null   int64 \n",
            " 3   utilib_1.4_counter   4950 non-null   int64 \n",
            " 4   charge_slots         4950 non-null   int64 \n",
            " 5   charging_status      4950 non-null   object\n",
            " 6   city                 4950 non-null   object\n",
            " 7   displayed_comment    111 non-null    object\n",
            " 8   id                   4950 non-null   object\n",
            " 9   kind                 4950 non-null   object\n",
            " 10  postal_code          4950 non-null   int64 \n",
            " 11  public_name          4950 non-null   object\n",
            " 12  rental_status        4950 non-null   object\n",
            " 13  slots                4950 non-null   int64 \n",
            " 14  station_type         4950 non-null   object\n",
            " 15  status               4950 non-null   object\n",
            " 16  subscription_status  4950 non-null   object\n",
            " 17  year                 4950 non-null   int64 \n",
            " 18  month                4950 non-null   int64 \n",
            " 19  day                  4950 non-null   int64 \n",
            " 20  hour                 4950 non-null   int64 \n",
            " 21  minute               4950 non-null   int64 \n",
            "dtypes: int64(11), object(11)\n",
            "memory usage: 889.5+ KB\n"
          ],
          "name": "stdout"
        }
      ]
    },
    {
      "cell_type": "code",
      "metadata": {
        "colab": {
          "base_uri": "https://localhost:8080/"
        },
        "id": "XWFPIBCQwCdH",
        "outputId": "cc5135a4-ca82-43ee-ef27-ba4b5d60b08e"
      },
      "source": [
        "# Data Cleaning Action: Datatype Conversion\n",
        "# The last five columns ie year, month, day, hour and minute need to be consolidated in new columns as date and time datatype\n",
        "Autolib_dataset['timestamp'] = pd.to_datetime(Autolib_dataset.iloc[:, 16:21])\n",
        "Autolib_dataset.info()\n"
      ],
      "execution_count": null,
      "outputs": [
        {
          "output_type": "stream",
          "text": [
            "<class 'pandas.core.frame.DataFrame'>\n",
            "Int64Index: 4950 entries, 0 to 4999\n",
            "Data columns (total 22 columns):\n",
            " #   Column               Non-Null Count  Dtype         \n",
            "---  ------               --------------  -----         \n",
            " 0   address              4950 non-null   object        \n",
            " 1   bluecar_counter      4950 non-null   int64         \n",
            " 2   utilib_counter       4950 non-null   int64         \n",
            " 3   utilib_1.4_counter   4950 non-null   int64         \n",
            " 4   charge_slots         4950 non-null   int64         \n",
            " 5   charging_status      4950 non-null   object        \n",
            " 6   city                 4950 non-null   object        \n",
            " 7   id                   4950 non-null   object        \n",
            " 8   kind                 4950 non-null   object        \n",
            " 9   postal_code          4950 non-null   int64         \n",
            " 10  public_name          4950 non-null   object        \n",
            " 11  rental_status        4950 non-null   object        \n",
            " 12  slots                4950 non-null   int64         \n",
            " 13  station_type         4950 non-null   object        \n",
            " 14  status               4950 non-null   object        \n",
            " 15  subscription_status  4950 non-null   object        \n",
            " 16  year                 4950 non-null   int64         \n",
            " 17  month                4950 non-null   int64         \n",
            " 18  day                  4950 non-null   int64         \n",
            " 19  hour                 4950 non-null   int64         \n",
            " 20  minute               4950 non-null   int64         \n",
            " 21  timestamp            4950 non-null   datetime64[ns]\n",
            "dtypes: datetime64[ns](1), int64(11), object(10)\n",
            "memory usage: 889.5+ KB\n"
          ],
          "name": "stdout"
        }
      ]
    },
    {
      "cell_type": "code",
      "metadata": {
        "id": "C_Vqf07GzgVR"
      },
      "source": [
        "Autolib_dataset = Autolib_dataset.drop('year', axis=1)\n",
        "Autolib_dataset = Autolib_dataset.drop('month', axis=1) \n",
        "Autolib_dataset = Autolib_dataset.drop('minute', axis=1)\n"
      ],
      "execution_count": null,
      "outputs": []
    },
    {
      "cell_type": "code",
      "metadata": {
        "colab": {
          "base_uri": "https://localhost:8080/"
        },
        "id": "kGiQOSMXzuYZ",
        "outputId": "b0229763-3784-472e-c2c3-3fe5facf48d3"
      },
      "source": [
        "Autolib_dataset.info()"
      ],
      "execution_count": null,
      "outputs": [
        {
          "output_type": "stream",
          "text": [
            "<class 'pandas.core.frame.DataFrame'>\n",
            "Int64Index: 4950 entries, 0 to 4999\n",
            "Data columns (total 19 columns):\n",
            " #   Column               Non-Null Count  Dtype         \n",
            "---  ------               --------------  -----         \n",
            " 0   address              4950 non-null   object        \n",
            " 1   bluecar_counter      4950 non-null   int64         \n",
            " 2   utilib_counter       4950 non-null   int64         \n",
            " 3   utilib_1.4_counter   4950 non-null   int64         \n",
            " 4   charge_slots         4950 non-null   int64         \n",
            " 5   charging_status      4950 non-null   object        \n",
            " 6   city                 4950 non-null   object        \n",
            " 7   id                   4950 non-null   object        \n",
            " 8   kind                 4950 non-null   object        \n",
            " 9   postal_code          4950 non-null   int64         \n",
            " 10  public_name          4950 non-null   object        \n",
            " 11  rental_status        4950 non-null   object        \n",
            " 12  slots                4950 non-null   int64         \n",
            " 13  station_type         4950 non-null   object        \n",
            " 14  status               4950 non-null   object        \n",
            " 15  subscription_status  4950 non-null   object        \n",
            " 16  day                  4950 non-null   int64         \n",
            " 17  hour                 4950 non-null   int64         \n",
            " 18  timestamp            4950 non-null   datetime64[ns]\n",
            "dtypes: datetime64[ns](1), int64(8), object(10)\n",
            "memory usage: 773.4+ KB\n"
          ],
          "name": "stdout"
        }
      ]
    },
    {
      "cell_type": "markdown",
      "metadata": {
        "id": "ZjfCi59k4akf"
      },
      "source": [
        "### Data Analysis\n"
      ]
    },
    {
      "cell_type": "code",
      "metadata": {
        "id": "QBfeNMFMNDg3"
      },
      "source": [
        "# When the car counters are zero, there still seems to be a timestamp record. I interpreted this to mean when the no. of available cars is zero, the vehicles are being returned.\n",
        "# I separated the dataset we had into two ie returned and picked up.\n",
        "Returned = Autolib_dataset[Autolib_dataset['bluecar_counter'] == 0]\n",
        "Picked_up = Autolib_dataset[Autolib_dataset['bluecar_counter'] > 0]"
      ],
      "execution_count": null,
      "outputs": []
    },
    {
      "cell_type": "code",
      "metadata": {
        "colab": {
          "base_uri": "https://localhost:8080/",
          "height": 824
        },
        "id": "Dx6VmJiDDOJN",
        "outputId": "73b16a5c-d597-474d-8868-156efaeeec7c"
      },
      "source": [
        "# Determining the most popular hour of day for picking up a shared electric car in the city of Paris.\n",
        "\n",
        "#Creating a dataset with only Paris as the city.\n",
        "paris = Picked_up[Picked_up['city']== 'Paris']\n",
        "\n",
        "#From the dataset paris , picking the columns bluecar_counter , hour , day and timestamp.                      \n",
        "bluecar =paris[['bluecar_counter', 'hour', 'timestamp']]\n",
        "bluecar.groupby('hour').sum().sort_values(by= 'bluecar_counter', ascending= False)\n",
        "\n",
        "#hour 21 which is 9:00 pm seems to be the hour where most parisians rented an electric car as it has the highest number of cars rented.\n"
      ],
      "execution_count": null,
      "outputs": [
        {
          "output_type": "execute_result",
          "data": {
            "text/html": [
              "<div>\n",
              "<style scoped>\n",
              "    .dataframe tbody tr th:only-of-type {\n",
              "        vertical-align: middle;\n",
              "    }\n",
              "\n",
              "    .dataframe tbody tr th {\n",
              "        vertical-align: top;\n",
              "    }\n",
              "\n",
              "    .dataframe thead th {\n",
              "        text-align: right;\n",
              "    }\n",
              "</style>\n",
              "<table border=\"1\" class=\"dataframe\">\n",
              "  <thead>\n",
              "    <tr style=\"text-align: right;\">\n",
              "      <th></th>\n",
              "      <th>bluecar_counter</th>\n",
              "    </tr>\n",
              "    <tr>\n",
              "      <th>hour</th>\n",
              "      <th></th>\n",
              "    </tr>\n",
              "  </thead>\n",
              "  <tbody>\n",
              "    <tr>\n",
              "      <th>21</th>\n",
              "      <td>268</td>\n",
              "    </tr>\n",
              "    <tr>\n",
              "      <th>6</th>\n",
              "      <td>260</td>\n",
              "    </tr>\n",
              "    <tr>\n",
              "      <th>12</th>\n",
              "      <td>250</td>\n",
              "    </tr>\n",
              "    <tr>\n",
              "      <th>9</th>\n",
              "      <td>250</td>\n",
              "    </tr>\n",
              "    <tr>\n",
              "      <th>3</th>\n",
              "      <td>242</td>\n",
              "    </tr>\n",
              "    <tr>\n",
              "      <th>5</th>\n",
              "      <td>235</td>\n",
              "    </tr>\n",
              "    <tr>\n",
              "      <th>8</th>\n",
              "      <td>234</td>\n",
              "    </tr>\n",
              "    <tr>\n",
              "      <th>10</th>\n",
              "      <td>232</td>\n",
              "    </tr>\n",
              "    <tr>\n",
              "      <th>7</th>\n",
              "      <td>225</td>\n",
              "    </tr>\n",
              "    <tr>\n",
              "      <th>2</th>\n",
              "      <td>221</td>\n",
              "    </tr>\n",
              "    <tr>\n",
              "      <th>15</th>\n",
              "      <td>218</td>\n",
              "    </tr>\n",
              "    <tr>\n",
              "      <th>4</th>\n",
              "      <td>209</td>\n",
              "    </tr>\n",
              "    <tr>\n",
              "      <th>16</th>\n",
              "      <td>208</td>\n",
              "    </tr>\n",
              "    <tr>\n",
              "      <th>1</th>\n",
              "      <td>207</td>\n",
              "    </tr>\n",
              "    <tr>\n",
              "      <th>13</th>\n",
              "      <td>207</td>\n",
              "    </tr>\n",
              "    <tr>\n",
              "      <th>0</th>\n",
              "      <td>206</td>\n",
              "    </tr>\n",
              "    <tr>\n",
              "      <th>11</th>\n",
              "      <td>201</td>\n",
              "    </tr>\n",
              "    <tr>\n",
              "      <th>22</th>\n",
              "      <td>197</td>\n",
              "    </tr>\n",
              "    <tr>\n",
              "      <th>19</th>\n",
              "      <td>193</td>\n",
              "    </tr>\n",
              "    <tr>\n",
              "      <th>18</th>\n",
              "      <td>192</td>\n",
              "    </tr>\n",
              "    <tr>\n",
              "      <th>23</th>\n",
              "      <td>191</td>\n",
              "    </tr>\n",
              "    <tr>\n",
              "      <th>17</th>\n",
              "      <td>187</td>\n",
              "    </tr>\n",
              "    <tr>\n",
              "      <th>14</th>\n",
              "      <td>163</td>\n",
              "    </tr>\n",
              "    <tr>\n",
              "      <th>20</th>\n",
              "      <td>149</td>\n",
              "    </tr>\n",
              "  </tbody>\n",
              "</table>\n",
              "</div>"
            ],
            "text/plain": [
              "      bluecar_counter\n",
              "hour                 \n",
              "21                268\n",
              "6                 260\n",
              "12                250\n",
              "9                 250\n",
              "3                 242\n",
              "5                 235\n",
              "8                 234\n",
              "10                232\n",
              "7                 225\n",
              "2                 221\n",
              "15                218\n",
              "4                 209\n",
              "16                208\n",
              "1                 207\n",
              "13                207\n",
              "0                 206\n",
              "11                201\n",
              "22                197\n",
              "19                193\n",
              "18                192\n",
              "23                191\n",
              "17                187\n",
              "14                163\n",
              "20                149"
            ]
          },
          "metadata": {
            "tags": []
          },
          "execution_count": 28
        }
      ]
    },
    {
      "cell_type": "code",
      "metadata": {
        "colab": {
          "base_uri": "https://localhost:8080/",
          "height": 824
        },
        "id": "JrmGtrHX4nCG",
        "outputId": "6197423f-c93a-4474-c3ba-d5d8fcd5cdab"
      },
      "source": [
        " # Determining the most popular hour for returning cars\n",
        " popular_returned = Returned[['bluecar_counter', 'hour']]\n",
        " count =popular_returned.groupby('hour').count()\n",
        " count.sort_values(by= 'bluecar_counter', ascending= False)\n",
        "\n",
        " # Hour 14 has the highest count of vehicles being returned. This time is equivalent to 2:00pm."
      ],
      "execution_count": null,
      "outputs": [
        {
          "output_type": "execute_result",
          "data": {
            "text/html": [
              "<div>\n",
              "<style scoped>\n",
              "    .dataframe tbody tr th:only-of-type {\n",
              "        vertical-align: middle;\n",
              "    }\n",
              "\n",
              "    .dataframe tbody tr th {\n",
              "        vertical-align: top;\n",
              "    }\n",
              "\n",
              "    .dataframe thead th {\n",
              "        text-align: right;\n",
              "    }\n",
              "</style>\n",
              "<table border=\"1\" class=\"dataframe\">\n",
              "  <thead>\n",
              "    <tr style=\"text-align: right;\">\n",
              "      <th></th>\n",
              "      <th>bluecar_counter</th>\n",
              "    </tr>\n",
              "    <tr>\n",
              "      <th>hour</th>\n",
              "      <th></th>\n",
              "    </tr>\n",
              "  </thead>\n",
              "  <tbody>\n",
              "    <tr>\n",
              "      <th>14</th>\n",
              "      <td>74</td>\n",
              "    </tr>\n",
              "    <tr>\n",
              "      <th>21</th>\n",
              "      <td>72</td>\n",
              "    </tr>\n",
              "    <tr>\n",
              "      <th>19</th>\n",
              "      <td>67</td>\n",
              "    </tr>\n",
              "    <tr>\n",
              "      <th>16</th>\n",
              "      <td>66</td>\n",
              "    </tr>\n",
              "    <tr>\n",
              "      <th>20</th>\n",
              "      <td>66</td>\n",
              "    </tr>\n",
              "    <tr>\n",
              "      <th>3</th>\n",
              "      <td>63</td>\n",
              "    </tr>\n",
              "    <tr>\n",
              "      <th>7</th>\n",
              "      <td>63</td>\n",
              "    </tr>\n",
              "    <tr>\n",
              "      <th>9</th>\n",
              "      <td>62</td>\n",
              "    </tr>\n",
              "    <tr>\n",
              "      <th>23</th>\n",
              "      <td>62</td>\n",
              "    </tr>\n",
              "    <tr>\n",
              "      <th>2</th>\n",
              "      <td>61</td>\n",
              "    </tr>\n",
              "    <tr>\n",
              "      <th>11</th>\n",
              "      <td>60</td>\n",
              "    </tr>\n",
              "    <tr>\n",
              "      <th>8</th>\n",
              "      <td>58</td>\n",
              "    </tr>\n",
              "    <tr>\n",
              "      <th>18</th>\n",
              "      <td>57</td>\n",
              "    </tr>\n",
              "    <tr>\n",
              "      <th>22</th>\n",
              "      <td>56</td>\n",
              "    </tr>\n",
              "    <tr>\n",
              "      <th>5</th>\n",
              "      <td>56</td>\n",
              "    </tr>\n",
              "    <tr>\n",
              "      <th>1</th>\n",
              "      <td>55</td>\n",
              "    </tr>\n",
              "    <tr>\n",
              "      <th>4</th>\n",
              "      <td>54</td>\n",
              "    </tr>\n",
              "    <tr>\n",
              "      <th>0</th>\n",
              "      <td>53</td>\n",
              "    </tr>\n",
              "    <tr>\n",
              "      <th>10</th>\n",
              "      <td>51</td>\n",
              "    </tr>\n",
              "    <tr>\n",
              "      <th>6</th>\n",
              "      <td>51</td>\n",
              "    </tr>\n",
              "    <tr>\n",
              "      <th>17</th>\n",
              "      <td>50</td>\n",
              "    </tr>\n",
              "    <tr>\n",
              "      <th>13</th>\n",
              "      <td>49</td>\n",
              "    </tr>\n",
              "    <tr>\n",
              "      <th>15</th>\n",
              "      <td>47</td>\n",
              "    </tr>\n",
              "    <tr>\n",
              "      <th>12</th>\n",
              "      <td>44</td>\n",
              "    </tr>\n",
              "  </tbody>\n",
              "</table>\n",
              "</div>"
            ],
            "text/plain": [
              "      bluecar_counter\n",
              "hour                 \n",
              "14                 74\n",
              "21                 72\n",
              "19                 67\n",
              "16                 66\n",
              "20                 66\n",
              "3                  63\n",
              "7                  63\n",
              "9                  62\n",
              "23                 62\n",
              "2                  61\n",
              "11                 60\n",
              "8                  58\n",
              "18                 57\n",
              "22                 56\n",
              "5                  56\n",
              "1                  55\n",
              "4                  54\n",
              "0                  53\n",
              "10                 51\n",
              "6                  51\n",
              "17                 50\n",
              "13                 49\n",
              "15                 47\n",
              "12                 44"
            ]
          },
          "metadata": {
            "tags": []
          },
          "execution_count": 35
        }
      ]
    },
    {
      "cell_type": "code",
      "metadata": {
        "colab": {
          "base_uri": "https://localhost:8080/",
          "height": 111
        },
        "id": "RSFQ-tLz4g2R",
        "outputId": "7e5024d0-8038-40de-9c6b-3d21bcfab1f7"
      },
      "source": [
        "# Which station is most popular\n",
        "stations =Autolib_dataset[['public_name', 'address', 'bluecar_counter']]\n",
        "stations.groupby('public_name').count().sort_values(by= 'bluecar_counter', ascending= False).head(1)\n",
        "\n",
        "# The station with the most appearences in the records appears to be Paris/Porte de Montrouge/8"
      ],
      "execution_count": 42,
      "outputs": [
        {
          "output_type": "execute_result",
          "data": {
            "text/html": [
              "<div>\n",
              "<style scoped>\n",
              "    .dataframe tbody tr th:only-of-type {\n",
              "        vertical-align: middle;\n",
              "    }\n",
              "\n",
              "    .dataframe tbody tr th {\n",
              "        vertical-align: top;\n",
              "    }\n",
              "\n",
              "    .dataframe thead th {\n",
              "        text-align: right;\n",
              "    }\n",
              "</style>\n",
              "<table border=\"1\" class=\"dataframe\">\n",
              "  <thead>\n",
              "    <tr style=\"text-align: right;\">\n",
              "      <th></th>\n",
              "      <th>address</th>\n",
              "      <th>bluecar_counter</th>\n",
              "    </tr>\n",
              "    <tr>\n",
              "      <th>public_name</th>\n",
              "      <th></th>\n",
              "      <th></th>\n",
              "    </tr>\n",
              "  </thead>\n",
              "  <tbody>\n",
              "    <tr>\n",
              "      <th>Paris/Porte de Montrouge/8</th>\n",
              "      <td>13</td>\n",
              "      <td>13</td>\n",
              "    </tr>\n",
              "  </tbody>\n",
              "</table>\n",
              "</div>"
            ],
            "text/plain": [
              "                            address  bluecar_counter\n",
              "public_name                                         \n",
              "Paris/Porte de Montrouge/8       13               13"
            ]
          },
          "metadata": {
            "tags": []
          },
          "execution_count": 42
        }
      ]
    },
    {
      "cell_type": "code",
      "metadata": {
        "id": "lT-rmGMKDC2b",
        "colab": {
          "base_uri": "https://localhost:8080/",
          "height": 450
        },
        "outputId": "043da378-c611-4d55-9a6e-d70827dfa741"
      },
      "source": [
        "# Which station is the most popular at the most popular picking hour\n",
        "nine_pm =Autolib_dataset[Autolib_dataset['hour']== 21]\n",
        "nine_pm[['public_name', 'bluecar']].groupby('public_name').count().sort_values(by= 'address', ascending= False)\n",
        "\n",
        "# The station most popular at 9 pm was Paris/Tronchet/19"
      ],
      "execution_count": 48,
      "outputs": [
        {
          "output_type": "execute_result",
          "data": {
            "text/html": [
              "<div>\n",
              "<style scoped>\n",
              "    .dataframe tbody tr th:only-of-type {\n",
              "        vertical-align: middle;\n",
              "    }\n",
              "\n",
              "    .dataframe tbody tr th {\n",
              "        vertical-align: top;\n",
              "    }\n",
              "\n",
              "    .dataframe thead th {\n",
              "        text-align: right;\n",
              "    }\n",
              "</style>\n",
              "<table border=\"1\" class=\"dataframe\">\n",
              "  <thead>\n",
              "    <tr style=\"text-align: right;\">\n",
              "      <th></th>\n",
              "      <th>address</th>\n",
              "    </tr>\n",
              "    <tr>\n",
              "      <th>public_name</th>\n",
              "      <th></th>\n",
              "    </tr>\n",
              "  </thead>\n",
              "  <tbody>\n",
              "    <tr>\n",
              "      <th>Paris/Tronchet/19</th>\n",
              "      <td>4</td>\n",
              "    </tr>\n",
              "    <tr>\n",
              "      <th>Paris/Voltaire/182</th>\n",
              "      <td>3</td>\n",
              "    </tr>\n",
              "    <tr>\n",
              "      <th>Alfortville/Europe/22</th>\n",
              "      <td>2</td>\n",
              "    </tr>\n",
              "    <tr>\n",
              "      <th>ChÃ¢tenay-Malabry/Jean JaurÃ¨s/280</th>\n",
              "      <td>2</td>\n",
              "    </tr>\n",
              "    <tr>\n",
              "      <th>Paris/Ãmile Reynaud/4</th>\n",
              "      <td>2</td>\n",
              "    </tr>\n",
              "    <tr>\n",
              "      <th>...</th>\n",
              "      <td>...</td>\n",
              "    </tr>\n",
              "    <tr>\n",
              "      <th>Paris/Bertin PoirÃ©e/14</th>\n",
              "      <td>1</td>\n",
              "    </tr>\n",
              "    <tr>\n",
              "      <th>Paris/Bois/1</th>\n",
              "      <td>1</td>\n",
              "    </tr>\n",
              "    <tr>\n",
              "      <th>Paris/Bosquet/41</th>\n",
              "      <td>1</td>\n",
              "    </tr>\n",
              "    <tr>\n",
              "      <th>Cachan/Division Leclerc/58</th>\n",
              "      <td>1</td>\n",
              "    </tr>\n",
              "    <tr>\n",
              "      <th>VerriÃ¨res-le-Buisson/PrÃ©-Hauts/1</th>\n",
              "      <td>1</td>\n",
              "    </tr>\n",
              "  </tbody>\n",
              "</table>\n",
              "<p>216 rows × 1 columns</p>\n",
              "</div>"
            ],
            "text/plain": [
              "                                    address\n",
              "public_name                                \n",
              "Paris/Tronchet/19                         4\n",
              "Paris/Voltaire/182                        3\n",
              "Alfortville/Europe/22                     2\n",
              "ChÃ¢tenay-Malabry/Jean JaurÃ¨s/280        2\n",
              "Paris/Ãmile Reynaud/4                    2\n",
              "...                                     ...\n",
              "Paris/Bertin PoirÃ©e/14                   1\n",
              "Paris/Bois/1                              1\n",
              "Paris/Bosquet/41                          1\n",
              "Cachan/Division Leclerc/58                1\n",
              "VerriÃ¨res-le-Buisson/PrÃ©-Hauts/1        1\n",
              "\n",
              "[216 rows x 1 columns]"
            ]
          },
          "metadata": {
            "tags": []
          },
          "execution_count": 48
        }
      ]
    },
    {
      "cell_type": "code",
      "metadata": {
        "colab": {
          "base_uri": "https://localhost:8080/",
          "height": 111
        },
        "id": "AIoXyosAJYa2",
        "outputId": "d6c3f631-9fb5-48c0-cf5d-e842891b8a1c"
      },
      "source": [
        "# What postal code is most popular for picking up blue cars\n",
        "postal_code =Autolib_dataset[['postal_code', 'bluecar_counter']]\n",
        "postal_code.groupby('postal_code').sum().sort_values(by= 'bluecar_counter', ascending= False).head(1)"
      ],
      "execution_count": 51,
      "outputs": [
        {
          "output_type": "execute_result",
          "data": {
            "text/html": [
              "<div>\n",
              "<style scoped>\n",
              "    .dataframe tbody tr th:only-of-type {\n",
              "        vertical-align: middle;\n",
              "    }\n",
              "\n",
              "    .dataframe tbody tr th {\n",
              "        vertical-align: top;\n",
              "    }\n",
              "\n",
              "    .dataframe thead th {\n",
              "        text-align: right;\n",
              "    }\n",
              "</style>\n",
              "<table border=\"1\" class=\"dataframe\">\n",
              "  <thead>\n",
              "    <tr style=\"text-align: right;\">\n",
              "      <th></th>\n",
              "      <th>bluecar_counter</th>\n",
              "    </tr>\n",
              "    <tr>\n",
              "      <th>postal_code</th>\n",
              "      <th></th>\n",
              "    </tr>\n",
              "  </thead>\n",
              "  <tbody>\n",
              "    <tr>\n",
              "      <th>75015</th>\n",
              "      <td>609</td>\n",
              "    </tr>\n",
              "  </tbody>\n",
              "</table>\n",
              "</div>"
            ],
            "text/plain": [
              "             bluecar_counter\n",
              "postal_code                 \n",
              "75015                    609"
            ]
          },
          "metadata": {
            "tags": []
          },
          "execution_count": 51
        }
      ]
    },
    {
      "cell_type": "code",
      "metadata": {
        "colab": {
          "base_uri": "https://localhost:8080/",
          "height": 69
        },
        "id": "neoYkVrILbwJ",
        "outputId": "c0200058-193a-4c9d-f15b-fe42f92a0d7f"
      },
      "source": [
        "Autolib_dataset[(Autolib_dataset['postal_code']== 75015) & (Autolib_dataset['public_name']== 'Paris/Porte de Montrouge/8')]\n",
        "# The most popular station postal code is not equal to the postal code with a larger number of subscribers frequently using it."
      ],
      "execution_count": 53,
      "outputs": [
        {
          "output_type": "execute_result",
          "data": {
            "text/html": [
              "<div>\n",
              "<style scoped>\n",
              "    .dataframe tbody tr th:only-of-type {\n",
              "        vertical-align: middle;\n",
              "    }\n",
              "\n",
              "    .dataframe tbody tr th {\n",
              "        vertical-align: top;\n",
              "    }\n",
              "\n",
              "    .dataframe thead th {\n",
              "        text-align: right;\n",
              "    }\n",
              "</style>\n",
              "<table border=\"1\" class=\"dataframe\">\n",
              "  <thead>\n",
              "    <tr style=\"text-align: right;\">\n",
              "      <th></th>\n",
              "      <th>address</th>\n",
              "      <th>bluecar_counter</th>\n",
              "      <th>utilib_counter</th>\n",
              "      <th>utilib_1.4_counter</th>\n",
              "      <th>charge_slots</th>\n",
              "      <th>charging_status</th>\n",
              "      <th>city</th>\n",
              "      <th>id</th>\n",
              "      <th>kind</th>\n",
              "      <th>postal_code</th>\n",
              "      <th>public_name</th>\n",
              "      <th>rental_status</th>\n",
              "      <th>slots</th>\n",
              "      <th>station_type</th>\n",
              "      <th>status</th>\n",
              "      <th>subscription_status</th>\n",
              "      <th>day</th>\n",
              "      <th>hour</th>\n",
              "      <th>timestamp</th>\n",
              "    </tr>\n",
              "  </thead>\n",
              "  <tbody>\n",
              "  </tbody>\n",
              "</table>\n",
              "</div>"
            ],
            "text/plain": [
              "Empty DataFrame\n",
              "Columns: [address, bluecar_counter, utilib_counter, utilib_1.4_counter, charge_slots, charging_status, city, id, kind, postal_code, public_name, rental_status, slots, station_type, status, subscription_status, day, hour, timestamp]\n",
              "Index: []"
            ]
          },
          "metadata": {
            "tags": []
          },
          "execution_count": 53
        }
      ]
    },
    {
      "cell_type": "code",
      "metadata": {
        "colab": {
          "base_uri": "https://localhost:8080/",
          "height": 111
        },
        "id": "PGAf0ezNKYRc",
        "outputId": "35dcc456-9c5b-4ce2-bb90-0c1cb0bbcf1c"
      },
      "source": [
        "# What postal code is most popular for picking up blue cars at the most popular picking hour.\n",
        "nine_postal =nine_pm[['postal_code', 'bluecar_counter']]\n",
        "nine_postal.groupby('postal_code').sum().sort_values(by= 'bluecar_counter', ascending= False).head(1)"
      ],
      "execution_count": 54,
      "outputs": [
        {
          "output_type": "execute_result",
          "data": {
            "text/html": [
              "<div>\n",
              "<style scoped>\n",
              "    .dataframe tbody tr th:only-of-type {\n",
              "        vertical-align: middle;\n",
              "    }\n",
              "\n",
              "    .dataframe tbody tr th {\n",
              "        vertical-align: top;\n",
              "    }\n",
              "\n",
              "    .dataframe thead th {\n",
              "        text-align: right;\n",
              "    }\n",
              "</style>\n",
              "<table border=\"1\" class=\"dataframe\">\n",
              "  <thead>\n",
              "    <tr style=\"text-align: right;\">\n",
              "      <th></th>\n",
              "      <th>bluecar_counter</th>\n",
              "    </tr>\n",
              "    <tr>\n",
              "      <th>postal_code</th>\n",
              "      <th></th>\n",
              "    </tr>\n",
              "  </thead>\n",
              "  <tbody>\n",
              "    <tr>\n",
              "      <th>75014</th>\n",
              "      <td>36</td>\n",
              "    </tr>\n",
              "  </tbody>\n",
              "</table>\n",
              "</div>"
            ],
            "text/plain": [
              "             bluecar_counter\n",
              "postal_code                 \n",
              "75014                     36"
            ]
          },
          "metadata": {
            "tags": []
          },
          "execution_count": 54
        }
      ]
    },
    {
      "cell_type": "code",
      "metadata": {
        "id": "c8geKr-6N9Ad"
      },
      "source": [
        "#"
      ],
      "execution_count": null,
      "outputs": []
    }
  ]
}